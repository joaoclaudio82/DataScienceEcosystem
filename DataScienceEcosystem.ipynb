{
 "cells": [
  {
   "cell_type": "markdown",
   "metadata": {},
   "source": [
    "<center>\n",
    "    <img src=\"https://cf-courses-data.s3.us.cloud-object-storage.appdomain.cloud/IBMDeveloperSkillsNetwork-DS0105EN-SkillsNetwork/labs/Module2/images/SN_web_lightmode.png\" width=\"300\" alt=\"cognitiveclass.ai logo\"  />\n",
    "</center>\n"
   ]
  },
  {
   "cell_type": "code",
   "execution_count": null,
   "metadata": {},
   "outputs": [],
   "source": []
  },
  {
   "cell_type": "markdown",
   "metadata": {},
   "source": [
    "# Exercise 1: Create a Jupyter Notebook"
   ]
  },
  {
   "cell_type": "markdown",
   "metadata": {},
   "source": [
    "## Create a new Jupyter notebook called DataScienceEcosystem.ipynb"
   ]
  },
  {
   "cell_type": "markdown",
   "metadata": {},
   "source": [
    "# Exercise 2: Create markdown cell with title of the notebook"
   ]
  },
  {
   "cell_type": "markdown",
   "metadata": {},
   "source": [
    "# Data Science Tools and Ecosystem"
   ]
  },
  {
   "cell_type": "markdown",
   "metadata": {
    "jp-MarkdownHeadingCollapsed": true,
    "tags": []
   },
   "source": [
    "# Exercise 3 - Create a markdown cell for an introduction"
   ]
  },
  {
   "cell_type": "markdown",
   "metadata": {},
   "source": [
    "# Introduction\n",
    "\n",
    "In this notebook, we will summarize the Data Science Tools and Ecosystem.\n"
   ]
  },
  {
   "cell_type": "markdown",
   "metadata": {},
   "source": [
    "# Exercise 4 - Create a markdown cell to list data science languages"
   ]
  },
  {
   "cell_type": "markdown",
   "metadata": {},
   "source": [
    "Some of the popular languages that Data Scientists use are:\n",
    "\n",
    "1. Python\n",
    "2. R\n",
    "3. SQL\n"
   ]
  },
  {
   "cell_type": "markdown",
   "metadata": {
    "tags": []
   },
   "source": [
    "# Exercise 5 - Create a markdown cell to list data science libraries"
   ]
  },
  {
   "cell_type": "markdown",
   "metadata": {},
   "source": [
    "### Popular Data Science Libraries\n",
    "#### Here are some of the most popular data science libraries that you may encounter while working with data:\n",
    "\n",
    "#### NumPy: a library for numerical computing in Python that provides support for arrays, matrices, and complex mathematical functions.\n",
    "#### Pandas: a library for data manipulation and analysis that provides data structures such as DataFrames and Series, which are used to store and manipulate tabular data.\n",
    "\n",
    "#### Matplotlib: a library for creating visualizations in Python, which provides a wide range of plotting functions to create various types of charts and graphs.\n",
    "\n",
    "#### Seaborn: a data visualization library based on Matplotlib that provides a high-level interface for creating statistical graphics.\n",
    "\n",
    "#### Scikit-learn: a library for machine learning in Python, which provides a range of algorithms for classification, regression, clustering, and dimensionality reduction.\n",
    "\n",
    "#### TensorFlow: an open-source machine learning library developed by Google, which provides tools for building and training deep neural networks.\n",
    "\n",
    "#### Keras: a high-level neural networks API, written in Python and capable of running on top of TensorFlow, which provides an easy-to-use interface for building and training deep learning models.\n",
    "\n",
    "#### PyTorch: an open-source machine learning library developed by Facebook, which provides a dynamic computation graph and tools for building and training neural networks."
   ]
  },
  {
   "cell_type": "markdown",
   "metadata": {},
   "source": [
    "# Create a markdown cell with a table of Data Science tools"
   ]
  },
  {
   "cell_type": "markdown",
   "metadata": {},
   "source": [
    "## Data Science Tools\n",
    "### Here's a table of various data science tools and technologies that you may encounter in your data science journey:\n",
    "### Jupyter Notebook\tAn open-source web application that allows you to create and share documents that contain live code, equations, visualizations, and narrative text.\n",
    "### RStudio\tAn integrated development environment (IDE) for R programming language, which provides tools for data manipulation, analysis, and visualization.\n",
    "### Python\tA high-level programming language that is widely used for data science, machine learning, and scientific computing.\n",
    "### R\tA programming language that is widely used for statistical computing, data analysis, and graphics.\n",
    "### SQL\tA domain-specific language used in programming and designed for managing and manipulating data in relational database management systems (RDBMS).\n",
    "### Hadoop\tAn open-source framework for distributed storage and processing of large datasets across clusters of computers.\n",
    "### Spark\tAn open-source distributed computing system that is designed for big data processing and analytics.\n",
    "### Tableau\tA data visualization software that allows users to create interactive and shareable dashboards, reports, and charts.\n",
    "### Excel\tA spreadsheet software that allows users to organize, analyze, and visualize data."
   ]
  },
  {
   "cell_type": "code",
   "execution_count": 2,
   "metadata": {},
   "outputs": [
    {
     "data": {
      "text/markdown": [
       "## Data Science Tools\n",
       "| Tool/Technology | Description |\n",
       "| --- | --- |\n",
       "| Jupyter Notebook | An open-source web application that allows you to create and share documents that contain live code, equations, visualizations, and narrative text. |\n",
       "| RStudio | An integrated development environment (IDE) for R programming language, which provides tools for data manipulation, analysis, and visualization. |\n",
       "| Python | A high-level programming language that is widely used for data science, machine learning, and scientific computing. |\n",
       "| R | A programming language that is widely used for statistical computing, data analysis, and graphics. |\n",
       "| SQL | A domain-specific language used in programming and designed for managing and manipulating data in relational database management systems (RDBMS). |\n",
       "| Hadoop | An open-source framework for distributed storage and processing of large datasets across clusters of computers. |\n",
       "| Spark | An open-source distributed computing system that is designed for big data processing and analytics. |\n",
       "| Tableau | A data visualization software that allows users to create interactive and shareable dashboards, reports, and charts. |\n",
       "| Excel | A spreadsheet software that allows users to organize, analyze, and visualize data. |\n"
      ],
      "text/plain": [
       "<IPython.core.display.Markdown object>"
      ]
     },
     "metadata": {},
     "output_type": "display_data"
    }
   ],
   "source": [
    "from IPython.display import Markdown, display\n",
    "\n",
    "table = '| Tool/Technology | Description |\\n'\n",
    "table += '| --- | --- |\\n'\n",
    "table += '| Jupyter Notebook | An open-source web application that allows you to create and share documents that contain live code, equations, visualizations, and narrative text. |\\n'\n",
    "table += '| RStudio | An integrated development environment (IDE) for R programming language, which provides tools for data manipulation, analysis, and visualization. |\\n'\n",
    "table += '| Python | A high-level programming language that is widely used for data science, machine learning, and scientific computing. |\\n'\n",
    "table += '| R | A programming language that is widely used for statistical computing, data analysis, and graphics. |\\n'\n",
    "table += '| SQL | A domain-specific language used in programming and designed for managing and manipulating data in relational database management systems (RDBMS). |\\n'\n",
    "table += '| Hadoop | An open-source framework for distributed storage and processing of large datasets across clusters of computers. |\\n'\n",
    "table += '| Spark | An open-source distributed computing system that is designed for big data processing and analytics. |\\n'\n",
    "table += '| Tableau | A data visualization software that allows users to create interactive and shareable dashboards, reports, and charts. |\\n'\n",
    "table += '| Excel | A spreadsheet software that allows users to organize, analyze, and visualize data. |\\n'\n",
    "\n",
    "display(Markdown('## Data Science Tools\\n' + table))\n"
   ]
  },
  {
   "cell_type": "markdown",
   "metadata": {},
   "source": [
    "# Exercise 7 - Create a markdown cell introducing arithmetic expression examples"
   ]
  },
  {
   "cell_type": "markdown",
   "metadata": {},
   "source": [
    "### Below are a few examples of evaluating arithmetic expressions in Python"
   ]
  },
  {
   "cell_type": "markdown",
   "metadata": {},
   "source": [
    "# Exercise 8 - Create a code cell to multiply and add numbers"
   ]
  },
  {
   "cell_type": "code",
   "execution_count": 5,
   "metadata": {
    "tags": []
   },
   "outputs": [
    {
     "data": {
      "text/plain": [
       "64"
      ]
     },
     "execution_count": 5,
     "metadata": {},
     "output_type": "execute_result"
    }
   ],
   "source": [
    "8*(5+3)"
   ]
  },
  {
   "cell_type": "markdown",
   "metadata": {},
   "source": [
    "# Exercise 9 - Create a code cell to convert minutes to hours"
   ]
  },
  {
   "cell_type": "markdown",
   "metadata": {},
   "source": [
    "## This will convert 200 minutes to hours by diving by 60"
   ]
  },
  {
   "cell_type": "code",
   "execution_count": 9,
   "metadata": {},
   "outputs": [
    {
     "name": "stdout",
     "output_type": "stream",
     "text": [
      "200 minutes is equal to 3.3333333333333335 hours.\n"
     ]
    }
   ],
   "source": [
    "minutes = 200\n",
    "hours = minutes / 60\n",
    "\n",
    "print(\"200 minutes is equal to\", hours, \"hours.\")"
   ]
  },
  {
   "cell_type": "markdown",
   "metadata": {},
   "source": [
    "# Exercise 10 - Insert a markdown cell to list Objectives"
   ]
  },
  {
   "cell_type": "markdown",
   "metadata": {},
   "source": [
    "## Objective\n",
    "- List popular languages for Data Science.\n",
    "- Identify common data science libraries and frameworks.\n",
    "- Describe the role of Jupyter Notebook in data science.\n",
    "- Understand the basics of data visualization using Matplotlib and Seaborn.\n",
    "- Perform data manipulation using Pandas library.\n"
   ]
  },
  {
   "cell_type": "markdown",
   "metadata": {},
   "source": [
    "# Exercise 11 - Create a markdown cell to indicate the Author's name"
   ]
  },
  {
   "cell_type": "markdown",
   "metadata": {},
   "source": [
    "## Chander Kant"
   ]
  }
 ],
 "metadata": {
  "kernelspec": {
   "display_name": "Python",
   "language": "python",
   "name": "conda-env-python-py"
  },
  "language_info": {
   "codemirror_mode": {
    "name": "ipython",
    "version": 3
   },
   "file_extension": ".py",
   "mimetype": "text/x-python",
   "name": "python",
   "nbconvert_exporter": "python",
   "pygments_lexer": "ipython3",
   "version": "3.7.12"
  }
 },
 "nbformat": 4,
 "nbformat_minor": 4
}
